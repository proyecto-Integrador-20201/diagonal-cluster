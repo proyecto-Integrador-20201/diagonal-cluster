{
 "cells": [
  {
   "cell_type": "code",
   "execution_count": 3,
   "metadata": {},
   "outputs": [],
   "source": [
    "# Importamos las librerias\n",
    "import pandas as pd\n",
    "#import fastparquet\n",
    "import pyarrow"
   ]
  },
  {
   "cell_type": "code",
   "execution_count": null,
   "metadata": {
    "pycharm": {
     "is_executing": true
    }
   },
   "outputs": [],
   "source": [
    "nameFileHvi = '../data/HVI.csv'\n",
    "hvi = pd.read_csv(nameFileHvi)"
   ]
  },
  {
   "cell_type": "code",
   "execution_count": 5,
   "metadata": {},
   "outputs": [
    {
     "data": {
      "text/plain": [
       "HviDataId              int64\n",
       "IDMuestra              int64\n",
       "CodPaca                int64\n",
       "Lote                   int64\n",
       "Paca                   int64\n",
       "IDEntrada              int64\n",
       "IDCosecha              int64\n",
       "CodProveedor           int64\n",
       "FechaAmbientacion     object\n",
       "FechaAnalisis         object\n",
       "Temperature          float64\n",
       "Humidity             float64\n",
       "Amount                 int64\n",
       "Length               float64\n",
       "EquivalenciaId       float64\n",
       "Uniformity           float64\n",
       "Strength             float64\n",
       "Elongation           float64\n",
       "SFI                  float64\n",
       "Grade                float64\n",
       "Moisture             float64\n",
       "Micronaire           float64\n",
       "Rd                   float64\n",
       "Plusb                float64\n",
       "ColorGrade            object\n",
       "TrashCount             int64\n",
       "TrashArea            float64\n",
       "TrashCode            float64\n",
       "SCI                  float64\n",
       "Maturity             float64\n",
       "UV                     int64\n",
       "GroupLENId             int64\n",
       "GroupMICId           float64\n",
       "GroupSTRId           float64\n",
       "GroupCLRGRDId        float64\n",
       "Seed                 float64\n",
       "GroupGINId           float64\n",
       "CodDesmotadora       float64\n",
       "IDCliente              int64\n",
       "Sugar                float64\n",
       "Mill                 float64\n",
       "Estado               float64\n",
       "PtosGradoLOAN        float64\n",
       "PtosLen              float64\n",
       "PtosMic              float64\n",
       "PtosStr              float64\n",
       "PtosMelaza           float64\n",
       "PtsoTrsh_Calidad     float64\n",
       "PtosTotal            float64\n",
       "Valorizada            object\n",
       "Equipo                object\n",
       "dtype: object"
      ]
     },
     "execution_count": 5,
     "metadata": {},
     "output_type": "execute_result"
    }
   ],
   "source": [
    "hvi.dtypes"
   ]
  },
  {
   "cell_type": "code",
   "execution_count": null,
   "metadata": {},
   "outputs": [],
   "source": []
  }
 ],
 "metadata": {
  "kernelspec": {
   "display_name": "Python 3",
   "language": "python",
   "name": "python3"
  },
  "language_info": {
   "codemirror_mode": {
    "name": "ipython",
    "version": 3
   },
   "file_extension": ".py",
   "mimetype": "text/x-python",
   "name": "python",
   "nbconvert_exporter": "python",
   "pygments_lexer": "ipython3",
   "version": "3.7.7"
  }
 },
 "nbformat": 4,
 "nbformat_minor": 1
}
